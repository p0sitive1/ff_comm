{
 "cells": [
  {
   "cell_type": "code",
   "execution_count": 2,
   "metadata": {},
   "outputs": [
    {
     "name": "stderr",
     "output_type": "stream",
     "text": [
      "/home/xingyan/anaconda3/envs/py37/lib/python3.7/site-packages/tqdm/auto.py:22: TqdmWarning: IProgress not found. Please update jupyter and ipywidgets. See https://ipywidgets.readthedocs.io/en/stable/user_install.html\n",
      "  from .autonotebook import tqdm as notebook_tqdm\n"
     ]
    }
   ],
   "source": [
    "import torch\n",
    "import torch.nn as nn\n",
    "from tqdm import tqdm\n",
    "from torch.optim import Adam\n",
    "from torchvision.transforms import Compose, ToTensor, Normalize, Lambda\n",
    "import numpy as np\n",
    "import random"
   ]
  },
  {
   "cell_type": "code",
   "execution_count": 3,
   "metadata": {},
   "outputs": [],
   "source": [
    "\n",
    "class Net(torch.nn.Module):\n",
    "    def __init__(self, dims, device=None):\n",
    "        super().__init__()\n",
    "        self.layers = []\n",
    "        for d in range(len(dims) - 1):\n",
    "            self.layers += [Layer(dims[d], dims[d + 1], device=device).cuda()]\n",
    "\n",
    "    def predict(self, x):\n",
    "        goodness_per_label = []\n",
    "        for label in range(16):\n",
    "            h = x\n",
    "            goodness = []\n",
    "            for layer in self.layers:\n",
    "                h = layer(h)\n",
    "                goodness += [h.pow(2).mean(1)]\n",
    "            goodness_per_label += [sum(goodness).unsqueeze(1)]\n",
    "        goodness_per_label = torch.cat(goodness_per_label, 1)\n",
    "        return goodness_per_label.argmax(1)\n",
    "    \n",
    "    def forward(self, x):\n",
    "        for layer in self.layers:\n",
    "            x = layer(x)\n",
    "        return x\n",
    "\n",
    "    def train(self, x_pos, x_neg):\n",
    "        h_pos, h_neg = x_pos, x_neg\n",
    "        for i, layer in enumerate(self.layers):\n",
    "            print(f\"training layer {i}\")\n",
    "            h_pos, h_neg = layer.train(h_pos, h_neg)\n",
    "\n",
    "class Layer(nn.Linear):\n",
    "    def __init__(self, in_features, out_features,\n",
    "                 bias=True, device=None, dtype=None):\n",
    "        super().__init__(in_features, out_features, bias, device, dtype)\n",
    "        self.relu = torch.nn.ReLU()\n",
    "        self.opt = Adam(self.parameters(), lr=0.03)\n",
    "        self.threshold = 2.0\n",
    "        self.num_epochs = 100000\n",
    "        self.device = device\n",
    "\n",
    "    def forward(self, x):\n",
    "        if len(x.shape) == 1:\n",
    "            x_direction = torch.nn.functional.normalize(x, dim=0)\n",
    "            x_direction = x_direction.unsqueeze(0)\n",
    "        else:\n",
    "            x_direction = torch.nn.functional.normalize(x)\n",
    "        x_direction = torch.tensor(x_direction, dtype=torch.float32).to(self.device)\n",
    "        return self.relu(\n",
    "            torch.mm(x_direction, self.weight.T) + self.bias.unsqueeze(0))\n",
    "\n",
    "    def train(self, x_pos, x_neg):\n",
    "        for _ in tqdm(range(self.num_epochs)):\n",
    "            g_pos = self.forward(x_pos).pow(2).mean(1)\n",
    "            g_neg = self.forward(x_neg).pow(2).mean(1)\n",
    "            loss = torch.log(1 + torch.exp(torch.cat([\n",
    "                -g_pos + self.threshold,\n",
    "                g_neg - self.threshold]))).mean()\n",
    "            self.opt.zero_grad()\n",
    "            loss.backward()\n",
    "            self.opt.step()\n",
    "        return self.forward(x_pos).detach(), self.forward(x_neg).detach()\n",
    "\n",
    "def Channel(x): \n",
    "    # add some noise\n",
    "    stddev = np.sqrt(1 / (10 ** (6)))\n",
    "    noise = torch.normal(mean=0, std=stddev, size=x.shape).to(device)\n",
    "    return x + noise\n",
    "\n",
    "def dec_to_bin(input, out_length=4):\n",
    "    tmp = str(bin(input))[2:]\n",
    "    if len(tmp) > out_length:\n",
    "        raise(\"input length too short\")\n",
    "    if len(tmp) < out_length:\n",
    "        tmp = (out_length - len(tmp)) * \"0\" + tmp\n",
    "    output = list()\n",
    "    for i in range(out_length):\n",
    "        output.append(int(tmp[i]))\n",
    "    return np.array(output)\n",
    "\n",
    "def generate_data(length):\n",
    "    \"\"\"\n",
    "    generate training data, returns true label, false label, data\n",
    "    \"\"\"\n",
    "    data_true = list()\n",
    "    data_false = list()\n",
    "    data_value = list()\n",
    "    for _ in range(length):\n",
    "        value = random.randrange(0, 16)\n",
    "        label_true = value\n",
    "        label_false = random.randrange(0, 16)\n",
    "        while label_false == value:\n",
    "            label_false = random.randrange(0, 16)\n",
    "\n",
    "        value = dec_to_bin(value)\n",
    "        label_true = dec_to_bin(label_true)\n",
    "        label_false = dec_to_bin(label_false)\n",
    "\n",
    "        data_true.append(label_true)\n",
    "        data_false.append(label_false)\n",
    "        data_value.append(value)\n",
    "    return np.array(data_true), np.array(data_false), np.array(data_value)\n",
    "\n",
    "def generate_spec_data(label, data):\n",
    "    bi_label = dec_to_bin(label)\n",
    "    bi_data = dec_to_bin(data)\n",
    "\n",
    "    return np.array(bi_label), np.array(bi_data)\n",
    "\n"
   ]
  },
  {
   "cell_type": "code",
   "execution_count": 4,
   "metadata": {},
   "outputs": [
    {
     "name": "stdout",
     "output_type": "stream",
     "text": [
      "training layer 0\n"
     ]
    },
    {
     "name": "stderr",
     "output_type": "stream",
     "text": [
      "  0%|          | 0/100000 [00:00<?, ?it/s]/home/xingyan/anaconda3/envs/py37/lib/python3.7/site-packages/ipykernel_launcher.py:47: UserWarning: To copy construct from a tensor, it is recommended to use sourceTensor.clone().detach() or sourceTensor.clone().detach().requires_grad_(True), rather than torch.tensor(sourceTensor).\n",
      "100%|██████████| 100000/100000 [02:55<00:00, 570.60it/s]\n"
     ]
    },
    {
     "name": "stdout",
     "output_type": "stream",
     "text": [
      "training layer 1\n"
     ]
    },
    {
     "name": "stderr",
     "output_type": "stream",
     "text": [
      "100%|██████████| 100000/100000 [02:49<00:00, 590.05it/s]\n"
     ]
    },
    {
     "name": "stdout",
     "output_type": "stream",
     "text": [
      "training layer 0\n"
     ]
    },
    {
     "name": "stderr",
     "output_type": "stream",
     "text": [
      "100%|██████████| 100000/100000 [02:49<00:00, 588.43it/s]\n"
     ]
    },
    {
     "name": "stdout",
     "output_type": "stream",
     "text": [
      "training layer 1\n"
     ]
    },
    {
     "name": "stderr",
     "output_type": "stream",
     "text": [
      "100%|██████████| 100000/100000 [03:04<00:00, 542.64it/s]\n"
     ]
    }
   ],
   "source": [
    "label_true, label_false, data = generate_data(50000)\n",
    "\n",
    "K = 16\n",
    "N = 32\n",
    "\n",
    "device = torch.device(\"cuda\" if torch.cuda.is_available() else \"cpu\")\n",
    "    \n",
    "net_in = Net([8, 32, 14], device)\n",
    "net_out = Net([14 + 4, 32, 16], device)\n",
    "\n",
    "# training here\n",
    "x_pos = np.concatenate((label_true, data), axis=1)\n",
    "x_neg = np.concatenate((label_false, data), axis=1)\n",
    "\n",
    "label_true = torch.Tensor(label_true).to(device)\n",
    "label_false = torch.Tensor(label_false).to(device)\n",
    "\n",
    "x_pos = torch.Tensor(x_pos).to(device)\n",
    "x_neg = torch.Tensor(x_neg).to(device)\n",
    "    \n",
    "net_in.train(x_pos, x_neg)\n",
    "\n",
    "imm_pos = Channel(net_in.forward(x_pos))\n",
    "imm_neg = Channel(net_in.forward(x_pos))\n",
    "\n",
    "imm_pos = torch.cat((label_true, imm_pos), dim=1)\n",
    "imm_neg = torch.cat((label_false, imm_neg), dim=1)\n",
    "\n",
    "net_out.train(imm_pos, imm_neg)\n"
   ]
  },
  {
   "cell_type": "code",
   "execution_count": 26,
   "metadata": {},
   "outputs": [
    {
     "name": "stdout",
     "output_type": "stream",
     "text": [
      "testing\n"
     ]
    },
    {
     "name": "stderr",
     "output_type": "stream",
     "text": [
      "/home/xingyan/anaconda3/envs/py37/lib/python3.7/site-packages/ipykernel_launcher.py:47: UserWarning: To copy construct from a tensor, it is recommended to use sourceTensor.clone().detach() or sourceTensor.clone().detach().requires_grad_(True), rather than torch.tensor(sourceTensor).\n"
     ]
    },
    {
     "name": "stdout",
     "output_type": "stream",
     "text": [
      "test error: 0.02\n",
      "top three rate: 1.0\n"
     ]
    }
   ],
   "source": [
    "# testing here\n",
    "tot = 0\n",
    "err = 0\n",
    "t_three = 0\n",
    "print(\"testing\")\n",
    "for _ in range(100):\n",
    "    label_true, label_false, data = generate_data(1)\n",
    "    input = np.concatenate((label_true, data), axis=1)\n",
    "    input = torch.Tensor(np.array(input)).to(device)\n",
    "\n",
    "    imm = Channel(net_in.forward(input))\n",
    "\n",
    "    outputs = list()\n",
    "    for i in range(16):\n",
    "        tmp = torch.Tensor(np.array([dec_to_bin(i)])).to(device)\n",
    "\n",
    "        cur_imm = torch.cat([tmp, imm], dim=1)\n",
    "\n",
    "        output = net_out.forward(cur_imm)\n",
    "\n",
    "        outputs.append(output)\n",
    "        \n",
    "    label_true = label_true.tolist()[0]\n",
    "    for i in range(4):\n",
    "        label_true[i] = str(label_true[i])\n",
    "    ground_truth = \"0b\" + \"\".join(label_true)\n",
    "    ground_truth = int(ground_truth, 2)\n",
    "\n",
    "    guesses = list()\n",
    "    for v in range(len(outputs)):\n",
    "        guesses.append([v, torch.sum(outputs[v]).item()])\n",
    "    guesses.sort(key=lambda x: x[1], reverse=True)\n",
    "    guess = guesses[0][0]\n",
    "\n",
    "    # print(ground_truth)\n",
    "    # print(guesses)\n",
    "\n",
    "    for i in range(3):\n",
    "        if int(ground_truth) == guesses[i][0]:\n",
    "            t_three += 1\n",
    "\n",
    "    if int(ground_truth) == int(guess):\n",
    "        tot += 1\n",
    "    else:\n",
    "        err += 1\n",
    "        tot += 1\n",
    "\n",
    "print(f\"test error: {err/tot}\")\n",
    "print(f\"top three rate: {t_three/tot}\")\n"
   ]
  },
  {
   "cell_type": "code",
   "execution_count": 39,
   "metadata": {},
   "outputs": [
    {
     "name": "stderr",
     "output_type": "stream",
     "text": [
      "  0%|          | 0/100 [00:00<?, ?it/s]/home/xingyan/anaconda3/envs/py37/lib/python3.7/site-packages/ipykernel_launcher.py:47: UserWarning: To copy construct from a tensor, it is recommended to use sourceTensor.clone().detach() or sourceTensor.clone().detach().requires_grad_(True), rather than torch.tensor(sourceTensor).\n",
      "100%|██████████| 100/100 [00:19<00:00,  5.15it/s]"
     ]
    },
    {
     "name": "stdout",
     "output_type": "stream",
     "text": [
      "Correct decoding rate: 0.44\n",
      "errors for the trials: [1, 0, 1, 0, 0, 2, 2, 2, 0, 2, 0, 2, 0, 0, 0, 1, 2, 0, 3, 0, 1, 1, 4, 1, 0, 1, 2, 0, 4, 1, 0, 0, 0, 1, 0, 0, 1, 0, 0, 1, 1, 3, 1, 2, 0, 1, 1, 1, 1, 1, 1, 1, 0, 4, 2, 1, 5, 0, 0, 2, 1, 1, 0, 0, 1, 0, 0, 1, 0, 0, 0, 0, 2, 1, 0, 0, 3, 0, 2, 0, 2, 0, 0, 0, 1, 1, 5, 3, 1, 2, 1, 0, 1, 0, 1, 0, 0, 1, 0, 0]\n"
     ]
    },
    {
     "name": "stderr",
     "output_type": "stream",
     "text": [
      "\n"
     ]
    }
   ],
   "source": [
    "# generating 128 bit data, seperate into 32 4 bit sections, and encode each section seperately\n",
    "corr = 0\n",
    "tot = 0\n",
    "num_errors = []\n",
    "for i in tqdm(range(100)):\n",
    "    # generate data with length n, seperate into m k length sections\n",
    "    n = 128\n",
    "    k = 4\n",
    "    if n % k != 0:\n",
    "        raise(\"Cannot seperate data\")\n",
    "\n",
    "    data = np.random.binomial(1, 0.5, n)\n",
    "    sep_data = np.split(data, n/k)\n",
    "\n",
    "    decoded = list()\n",
    "    for section in sep_data:\n",
    "        input = torch.Tensor(section).to(device)\n",
    "        input = torch.cat([input, input])\n",
    "        imm = Channel(net_in.forward(input))\n",
    "\n",
    "        outputs = list()\n",
    "        for i in range(16):\n",
    "            tmp = torch.Tensor(np.array([dec_to_bin(i)])).to(device)\n",
    "            cur_imm = torch.cat([tmp, imm], dim=1)\n",
    "            output = net_out.forward(cur_imm)\n",
    "            outputs.append(output)\n",
    "        \n",
    "        guesses = list()\n",
    "        for v in range(len(outputs)):\n",
    "            guesses.append([dec_to_bin(v), torch.sum(outputs[v]).item()])\n",
    "        guesses.sort(key=lambda x: x[1], reverse=True)\n",
    "        guess = guesses[0][0]\n",
    "\n",
    "        decoded.append(guess)\n",
    "\n",
    "    decoded = np.concatenate(decoded)\n",
    "\n",
    "    num_errors.append(np.sum(np.absolute(data-decoded)))\n",
    "\n",
    "    if (data==decoded).all():\n",
    "        corr += 1\n",
    "        tot += 1\n",
    "    else:\n",
    "        tot += 1\n",
    "\n",
    "print(f\"Correct decoding rate: {corr/tot}\")\n",
    "print(f\"errors for the trials: {num_errors}\")"
   ]
  },
  {
   "cell_type": "code",
   "execution_count": 28,
   "metadata": {},
   "outputs": [
    {
     "name": "stdout",
     "output_type": "stream",
     "text": [
      "[0 0 1 0 1 0 1 1 0 1 1 1 0 0 1 0 1 0 1 1 1 0 1 1 0 1 1 1 1 1 0 0 1 0 1 0 0\n",
      " 1 0 0 1 0 0 1 0 1 1 0 0 1 0 1 1 0 0 1 0 1 1 1 0 1 1 0]\n",
      "[[0, 0, 0, 0], [0, 0, 1, 0], [0, 1, 0, 1], [1, 1, 0, 1], [1, 1, 1, 0], [0, 0, 1, 0], [0, 1, 0, 1], [1, 1, 1, 0], [0, 1, 1, 0], [0, 1, 1, 1], [1, 1, 1, 0], [0, 0, 1, 0], [0, 1, 0, 0], [0, 1, 0, 0], [0, 1, 0, 0], [0, 1, 0, 1], [1, 1, 0, 0], [0, 1, 0, 1], [1, 1, 0, 0], [0, 1, 0, 1], [1, 1, 1, 0], [0, 1, 1, 0], [0, 0, 0, 0]]\n",
      "[[0, 1, 2, 3], [3, 4, 5, 6], [6, 7, 8, 9], [9, 10, 11, 12], [12, 13, 14, 15], [15, 16, 17, 18], [18, 19, 20, 21], [21, 22, 23, 24], [24, 25, 26, 27], [27, 28, 29, 30], [30, 31, 32, 33], [33, 34, 35, 36], [36, 37, 38, 39], [39, 40, 41, 42], [42, 43, 44, 45], [45, 46, 47, 48], [48, 49, 50, 51], [51, 52, 53, 54], [54, 55, 56, 57], [57, 58, 59, 60], [60, 61, 62, 63], [63, 64, 65, 66], [66, 67, 68, 69]]\n",
      "[0 0 1 0 1 0 1 1 0 1 1 1 0 0 1 0 1 0 1 1 1 0 1 1 0 1 1 1 1 1 0 0 1 0 1 0 0\n",
      " 1 0 0 1 0 0 1 0 1 1 0 0 1 0 1 1 0 0 1 0 1 1 1 0 1 1 0]\n"
     ]
    }
   ],
   "source": [
    "# utils for seperating data by convolving \n",
    "data = np.random.binomial(1, 0.5, n)\n",
    "def sep_data_conv(data, padding, stride, n=128, k=4):\n",
    "    sep_data = list()\n",
    "    sep_index = list()\n",
    "    tmp_data = [0] * padding + list(data) + [0] * padding\n",
    "\n",
    "    for i in range(0, len(tmp_data)-padding, stride):\n",
    "        sep_data.append(tmp_data[i: i+k])\n",
    "            \n",
    "    for i in range(0, len(tmp_data)-padding, stride):\n",
    "        sep_index.append([j for j in range(i, i+k)])\n",
    "\n",
    "    return sep_data, sep_index\n",
    "\n",
    "def restore_data_conv(sep_data, sep_index, padding, n=128, k=4):\n",
    "    restored_data = [[] for _ in range(n + padding * 2)]\n",
    "    for i in range(len(sep_data)):\n",
    "        for j in range(len(sep_index[i])):\n",
    "            restored_data[sep_index[i][j]].append(sep_data[i][j])\n",
    "\n",
    "    output = list()\n",
    "    for i in range(padding, n + padding):\n",
    "        tmp = restored_data[i]\n",
    "        ones = tmp.count(1)\n",
    "        zeros = tmp.count(0)\n",
    "        if ones >= zeros:\n",
    "            output.append(1)\n",
    "        else:\n",
    "            output.append(0)\n",
    "\n",
    "    return np.array(output)\n",
    "\n",
    "sep_data, sep_index = sep_data_conv(data, 3, 3)\n",
    "print(data)\n",
    "print(sep_data)\n",
    "print(sep_index)\n",
    "\n",
    "restored_data = restore_data_conv(sep_data, sep_index, 3)\n",
    "print(restored_data)"
   ]
  },
  {
   "cell_type": "code",
   "execution_count": 40,
   "metadata": {},
   "outputs": [
    {
     "name": "stderr",
     "output_type": "stream",
     "text": [
      "  0%|          | 0/100 [00:00<?, ?it/s]/home/xingyan/anaconda3/envs/py37/lib/python3.7/site-packages/ipykernel_launcher.py:47: UserWarning: To copy construct from a tensor, it is recommended to use sourceTensor.clone().detach() or sourceTensor.clone().detach().requires_grad_(True), rather than torch.tensor(sourceTensor).\n",
      "100%|██████████| 100/100 [00:19<00:00,  5.19it/s]"
     ]
    },
    {
     "name": "stdout",
     "output_type": "stream",
     "text": [
      "Correct decoding rate: 0.32\n",
      "errors for the trials: [0, 0, 3, 1, 0, 1, 0, 1, 0, 0, 1, 1, 2, 2, 8, 1, 2, 1, 1, 1, 1, 1, 2, 1, 0, 4, 2, 1, 0, 2, 0, 0, 1, 2, 2, 3, 2, 1, 2, 1, 0, 0, 1, 1, 1, 1, 2, 0, 2, 0, 0, 2, 0, 1, 6, 5, 0, 0, 2, 1, 2, 2, 1, 0, 1, 0, 1, 1, 0, 0, 0, 1, 0, 1, 1, 2, 0, 2, 0, 1, 2, 3, 0, 2, 0, 2, 0, 4, 2, 2, 0, 1, 0, 1, 2, 2, 0, 7, 2, 1]\n"
     ]
    },
    {
     "name": "stderr",
     "output_type": "stream",
     "text": [
      "\n"
     ]
    }
   ],
   "source": [
    "# generate data with length n, use convolution to create n k length sections\n",
    "n = 128\n",
    "k = 4\n",
    "\n",
    "corr = 0\n",
    "tot = 0\n",
    "num_errors = []\n",
    "for i in tqdm(range(100)): \n",
    "    data = np.random.binomial(1, 0.5, n)\n",
    "    padding = 3\n",
    "    stride = 1\n",
    "    sep_data, sep_index = sep_data_conv(data, padding, stride)\n",
    "\n",
    "    decoded = list()\n",
    "    for section in sep_data:\n",
    "        input = torch.Tensor(section).to(device)\n",
    "        input = torch.cat([input, input])\n",
    "        imm = Channel(net_in.forward(input))\n",
    "\n",
    "        outputs = list()\n",
    "        for i in range(16):\n",
    "            tmp = torch.Tensor(np.array([dec_to_bin(i)])).to(device)\n",
    "            cur_imm = torch.cat([tmp, imm], dim=1)\n",
    "            output = net_out.forward(cur_imm)\n",
    "            outputs.append(output)\n",
    "            \n",
    "        guesses = list()\n",
    "        for v in range(len(outputs)):\n",
    "            guesses.append([dec_to_bin(v), torch.sum(outputs[v]).item()])\n",
    "        guesses.sort(key=lambda x: x[1], reverse=True)\n",
    "        guess = guesses[0][0]\n",
    "        \n",
    "        decoded.append(guess)\n",
    "\n",
    "    output = restore_data_conv(decoded, sep_index, padding)\n",
    "\n",
    "    num_errors.append(np.sum(np.absolute(data-output)))\n",
    "\n",
    "    if (data==output).all():\n",
    "        corr += 1\n",
    "        tot += 1\n",
    "    else:\n",
    "        tot += 1\n",
    "\n",
    "print(f\"Correct decoding rate: {corr/tot}\")\n",
    "print(f\"errors for the trials: {num_errors}\")"
   ]
  },
  {
   "cell_type": "code",
   "execution_count": 34,
   "metadata": {},
   "outputs": [],
   "source": [
    "import matplotlib.pyplot as plt"
   ]
  },
  {
   "cell_type": "code",
   "execution_count": 35,
   "metadata": {},
   "outputs": [
    {
     "name": "stderr",
     "output_type": "stream",
     "text": [
      "/home/xingyan/anaconda3/envs/py37/lib/python3.7/site-packages/ipykernel_launcher.py:47: UserWarning: To copy construct from a tensor, it is recommended to use sourceTensor.clone().detach() or sourceTensor.clone().detach().requires_grad_(True), rather than torch.tensor(sourceTensor).\n",
      "No artists with labels found to put in legend.  Note that artists whose label start with an underscore are ignored when legend() is called with no argument.\n"
     ]
    },
    {
     "data": {
      "text/plain": [
       "<matplotlib.image.AxesImage at 0x7f20d3c1ba10>"
      ]
     },
     "execution_count": 35,
     "metadata": {},
     "output_type": "execute_result"
    },
    {
     "data": {
      "image/png": "[encoded data removed]",
      "text/plain": [
       "<Figure size 640x480 with 1 Axes>"
      ]
     },
     "metadata": {},
     "output_type": "display_data"
    }
   ],
   "source": [
    "res = np.zeros((16,16))\n",
    "codeword = np.zeros((16,14))\n",
    "for i in range(16):\n",
    "    # test_data = np.random.binomial(1, 0.5, [1, block_length])\n",
    "    test_data = torch.Tensor(dec_to_bin(i)).unsqueeze(0)\n",
    "    # print(test_data)\n",
    "    label_true = test_data\n",
    "\n",
    "    test_data = torch.Tensor(test_data).to(device)\n",
    "    label_true = torch.Tensor(label_true).to(device)\n",
    "\n",
    "    input = torch.cat([label_true, test_data], dim=1)\n",
    "\n",
    "    imm_no_channel = net_in.forward(input)\n",
    "    # imm_no_channel /= torch.sum(imm_no_channel**2)\n",
    "    codeword[i,:] = imm_no_channel.cpu().detach().numpy()\n",
    "for i in range(16):\n",
    "    for j in range(16):\n",
    "        res[i,j]= np.sum((codeword[i]-codeword[j])**2)\n",
    "\n",
    "plt.legend()\n",
    "plt.imshow(res)"
   ]
  },
  {
   "cell_type": "code",
   "execution_count": 36,
   "metadata": {},
   "outputs": [
    {
     "data": {
      "text/plain": [
       "array([26.33681014,  3.7794583 ,  3.94444691, 20.27606389, 11.96544109,\n",
       "        9.06688867,  1.94717957,  3.55755718,  3.55755718,  1.94717957,\n",
       "        7.84073798, 20.27606389, 15.7241279 ,  3.94444691, 17.78518779,\n",
       "        5.20273887])"
      ]
     },
     "execution_count": 36,
     "metadata": {},
     "output_type": "execute_result"
    }
   ],
   "source": [
    "for i in range(16):\n",
    "    res[i,i]+=100\n",
    "np.min(res,axis=0)"
   ]
  }
 ],
 "metadata": {
  "kernelspec": {
   "display_name": "Python 3.7.15 ('py37': conda)",
   "language": "python",
   "name": "python3"
  },
  "language_info": {
   "codemirror_mode": {
    "name": "ipython",
    "version": 3
   },
   "file_extension": ".py",
   "mimetype": "text/x-python",
   "name": "python",
   "nbconvert_exporter": "python",
   "pygments_lexer": "ipython3",
   "version": "3.7.15"
  },
  "orig_nbformat": 4,
  "vscode": {
   "interpreter": {
    "hash": "9a243070f551174a5465f1a9e3c098ebf386344fd1ca5dc0370448ed621039df"
   }
  }
 },
 "nbformat": 4,
 "nbformat_minor": 2
}
